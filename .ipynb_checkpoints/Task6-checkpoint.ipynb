{
 "cells": [
  {
   "cell_type": "code",
   "execution_count": 1,
   "id": "1638e87c",
   "metadata": {},
   "outputs": [
    {
     "name": "stdout",
     "output_type": "stream",
     "text": [
      "Enter the input1: 10\n",
      "Enter the unput2: 7\n",
      "Sum of two inputs is: 17\n"
     ]
    }
   ],
   "source": [
    "num1 = int(input(\"Enter the input1: \"))\n",
    "num2 = int(input(\"Enter the unput2: \"))\n",
    "\n",
    "sum = num1+num2\n",
    "\n",
    "print(\"Sum of two inputs is:\",sum)"
   ]
  },
  {
   "cell_type": "code",
   "execution_count": null,
   "id": "b06f5a59",
   "metadata": {},
   "outputs": [],
   "source": []
  }
 ],
 "metadata": {
  "kernelspec": {
   "display_name": "Python 3 (ipykernel)",
   "language": "python",
   "name": "python3"
  },
  "language_info": {
   "codemirror_mode": {
    "name": "ipython",
    "version": 3
   },
   "file_extension": ".py",
   "mimetype": "text/x-python",
   "name": "python",
   "nbconvert_exporter": "python",
   "pygments_lexer": "ipython3",
   "version": "3.9.9"
  }
 },
 "nbformat": 4,
 "nbformat_minor": 5
}
