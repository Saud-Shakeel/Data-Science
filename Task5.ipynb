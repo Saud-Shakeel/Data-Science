{
 "cells": [
  {
   "cell_type": "code",
   "execution_count": 1,
   "id": "c3f3ddad",
   "metadata": {},
   "outputs": [
    {
     "name": "stdout",
     "output_type": "stream",
     "text": [
      "Enter your first name: Saud\n",
      "Enter your last name: Shakeel\n",
      "\n",
      "In reverse order\n",
      "\n",
      "Shakeel Saud\n"
     ]
    }
   ],
   "source": [
    "firstName = input(\"Enter your first name: \")\n",
    "lastName = input(\"Enter your last name: \")\n",
    "\n",
    "print(\"\\nIn reverse order\\n\")\n",
    "\n",
    "print(lastName,firstName)"
   ]
  },
  {
   "cell_type": "code",
   "execution_count": null,
   "id": "0634a07c",
   "metadata": {},
   "outputs": [],
   "source": []
  }
 ],
 "metadata": {
  "kernelspec": {
   "display_name": "Python 3 (ipykernel)",
   "language": "python",
   "name": "python3"
  },
  "language_info": {
   "codemirror_mode": {
    "name": "ipython",
    "version": 3
   },
   "file_extension": ".py",
   "mimetype": "text/x-python",
   "name": "python",
   "nbconvert_exporter": "python",
   "pygments_lexer": "ipython3",
   "version": "3.9.9"
  }
 },
 "nbformat": 4,
 "nbformat_minor": 5
}
