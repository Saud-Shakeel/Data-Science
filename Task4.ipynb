{
 "cells": [
  {
   "cell_type": "code",
   "execution_count": 1,
   "id": "9032ebd4",
   "metadata": {},
   "outputs": [
    {
     "name": "stdout",
     "output_type": "stream",
     "text": [
      "Enter the value for the radius of circle:2\n",
      "A=pi*(r^2)\n",
      "A= 12.568\n"
     ]
    }
   ],
   "source": [
    "pi = 3.142\n",
    "r = int(input(\"Enter the value for the radius of circle:\"))\n",
    "\n",
    "Area = pi*(r**2)\n",
    "print(\"A=pi*(r^2)\")\n",
    "\n",
    "print(\"A=\",Area)"
   ]
  },
  {
   "cell_type": "code",
   "execution_count": null,
   "id": "12c320d3",
   "metadata": {},
   "outputs": [],
   "source": []
  }
 ],
 "metadata": {
  "kernelspec": {
   "display_name": "Python 3 (ipykernel)",
   "language": "python",
   "name": "python3"
  },
  "language_info": {
   "codemirror_mode": {
    "name": "ipython",
    "version": 3
   },
   "file_extension": ".py",
   "mimetype": "text/x-python",
   "name": "python",
   "nbconvert_exporter": "python",
   "pygments_lexer": "ipython3",
   "version": "3.9.9"
  }
 },
 "nbformat": 4,
 "nbformat_minor": 5
}
